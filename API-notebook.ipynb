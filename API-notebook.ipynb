{
 "cells": [
  {
   "cell_type": "markdown",
   "metadata": {},
   "source": [
    "<style>\n",
    "@import url('https://fonts.googleapis.com/css2?family=Roboto:wght@400;700&display=swap');\n",
    "body {\n",
    "    font-family: 'Roboto', sans-serif;\n",
    "}\n",
    "</style>\n",
    "<h2><span style=\"font-family: 'Roboto', sans-serif;\">[λ] LAMBDA CAPTURE LIMITED</span></h2>\n",
    "<h4><span style=\"font-family: 'Roboto', sans-serif;\">API for Semantic Search &amp; Text Retrieval of Macro Data</span></h4>\n",
    "<hr>\n",
    "<p>\n",
    "<a href=\"https://lambda-capture.com/waitlist\" target=\"_blank\"><strong>Join Waitlist (24h) for free API Key</strong></a> | \n",
    "<a href=\"https://lambda-capture.com\" target=\"_blank\">Visit our Website</a> | \n",
    "<a href=\"mailto:support@lambda-capture.com\" target=\"_blank\">Get in touch</a><br><br>\n",
    "<a href=\"https://colab.research.google.com/github/lambda-capture/Semantic-Search-API/API-notebook.ipynb\" target=\"_blank\">\n",
    "  <img src=\"https://colab.research.google.com/assets/colab-badge.svg\" alt=\"Open in Colab\"/>\n",
    "</a><br>\n",
    "</p><br>\n",
    "© 2024 Lambda Capture Limited (Registration Number 15845351) 52 Tabernacle Street, London, EC2A 4NJ - All rights reserved\n"
   ]
  },
  {
   "cell_type": "markdown",
   "metadata": {},
   "source": [
    "## Our Data\n",
    "Waitlist sources are restricted to Central Banking Reports from the Federal Reserve, ECB, and Bank of England. These include key publications covering monetary policy decisions and judgments, market intelligence, forecasts, macroeconomic projections, and implementation notes. Each Waitlist account receives up to 1,000 free API requests."
   ]
  },
  {
   "cell_type": "markdown",
   "metadata": {},
   "source": [
    "## API Arguments\n",
    "\n",
    "| Arg Name    | Var Type         | Description                | Default Value                              | Required |\n",
    "|-------------|------------------|----------------------------|--------------------------------------------|----------|\n",
    "| api_key     | string           | Your API key               | None                                       | true     |\n",
    "| query_text  | string           | Search query               | None                                       | true     |\n",
    "| max_results | integer (1 to inf) | Maximum results            | 10                                         | false    |\n",
    "| score       | float (0 to 1)   | Minimum similarity score   | 0.75                                       | false    |\n",
    "| start_date  | string           | Start date for query       | \"2018-01-01\"                               | false    |\n",
    "| end_date    | string           | End date for query         | Current Date                               | false    |\n",
    "| source      | list of strings  | Publishing source          | [\"Federal Reserve\", \"Bank of England\", \"European Central Bank\"] | false    |\n",
    "| type        | list of strings  | Type of media to return    | [\"text\", \"chart\", \"table\"]                 | false    |\n",
    "\n",
    "Footnotes: \n",
    "- score uses cosine-similarity\n",
    "- unless explicitly required, we suggest not to filter by publishing source, as semantic similarity can efficiently find relevant info across different Central Banks"
   ]
  },
  {
   "cell_type": "markdown",
   "metadata": {},
   "source": [
    "## Response Data Structure\n",
    "Response data is a JSON list (list of dictionaries). Each list object includes the following fields:\n",
    "| Field            | Variable Type | Description                                           | Required |\n",
    "|------------------|---------------|-------------------------------------------------------|----------|\n",
    "| uuid             | string        | Unique ID of the record                               | true     |\n",
    "| source           | string        | One of 3 Central Banks                                | true     |\n",
    "| report-link      | string        | URL of the original publication                       | true     |\n",
    "| published        | string        | Date of publication in ISO format                     | true     |\n",
    "| section_title    | string        | Document section                                      | false    |\n",
    "| sbsection_title  | string        | Document subsection                                   | false    |\n",
    "| type             | string        | Type of retrieved media                               | true     |\n",
    "| chunk            | string        | Main text body (title of chart or table)              | true     |\n",
    "| token_count      | integer (1 to inf) | Number of text tokens (size)                          | true     |\n",
    "| data             | string        | Main body for table or download link for chart        | false    |\n",
    "| footnotes        | string        | Footnotes for table or chart                          | false    |\n",
    "| chart_schema     | string        | Additional field for charts, includes textual summary | false    |\n",
    "| score            | float (0 to 1) | Cosine-similarity score (from 0 to 1)                 | true     |\n",
    "\n",
    "### Ranking: \n",
    "Results are ranked by publication date. If two records have the same publication date, they are further sorted by descending score."
   ]
  },
  {
   "cell_type": "markdown",
   "metadata": {},
   "source": [
    "## Requests\n",
    "Our RESTful API currently supports only GET requests. Below is an example of how to make a GET request to our API using Python's requests library or command-line interface (CLI) curl."
   ]
  },
  {
   "cell_type": "markdown",
   "metadata": {},
   "source": [
    "### Python:"
   ]
  },
  {
   "cell_type": "code",
   "execution_count": 1,
   "metadata": {},
   "outputs": [
    {
     "name": "stdout",
     "output_type": "stream",
     "text": [
      "status of response: 200\n"
     ]
    },
    {
     "data": {
      "text/plain": [
       "[{'uuid': 'a52e0b78-01b9-4e37-9093-ba7573fe3649',\n",
       "  'source': 'Bank of England',\n",
       "  'report_link': 'https://www.bankofengland.co.uk/monetary-policy-report/2024/november-2024',\n",
       "  'document_title': 'monetary-policy-report-november-2024',\n",
       "  'published': '2024-11-07T00:00:00',\n",
       "  'section_title': '2: Current economic conditions',\n",
       "  'subsection_title': '2.5: Inflation and wages',\n",
       "  'type': 'text',\n",
       "  'chunk': 'Household and business expectations for CPI inflation play an important role in wage and price-setting dynamics. Inflation expectations rose sharply alongside actual inflation in 2022. With inflation now around the 2% target, however, some measures of inflation expectations are back to around their 2010–19 averages. ',\n",
       "  'token_count': 61,\n",
       "  'data': None,\n",
       "  'footnotes': None,\n",
       "  'title': 'Monetary Policy Report November 2024',\n",
       "  'score': 0.8391591310501099},\n",
       " {'uuid': 'd97e48fb-8e0b-4930-9e9f-44439875edaf',\n",
       "  'source': 'Bank of England',\n",
       "  'report_link': 'https://www.bankofengland.co.uk/monetary-policy-report/2024/november-2024',\n",
       "  'document_title': 'monetary-policy-report-november-2024',\n",
       "  'published': '2024-11-07T00:00:00',\n",
       "  'section_title': '2: Current economic conditions',\n",
       "  'subsection_title': '2.5: Inflation and wages',\n",
       "  'type': 'text',\n",
       "  'chunk': 'Inflation expectations, as measured by the Bank/Ipsos survey, were a little below their pre-Covid averages at the one and five-year horizons in 2024 Q3. The short and medium-term inflation expectations measures reported in the Citi/YouGov survey have picked up somewhat since August but remain lower than recent peaks (Chart 2.28). Part of that rise may have reflected the October increase in the Ofgem price cap. Households’ perceptions of current inflation reported in the Bank/Ipsos survey remained elevated at around 5.2% in 2024 Q3. The current gap between households’ perceptions of inflation and CPI inflation outturns is relatively large by historical standards.',\n",
       "  'token_count': 142,\n",
       "  'data': None,\n",
       "  'footnotes': None,\n",
       "  'title': 'Monetary Policy Report November 2024',\n",
       "  'score': 0.816133975982666}]"
      ]
     },
     "execution_count": 1,
     "metadata": {},
     "output_type": "execute_result"
    }
   ],
   "source": [
    "import requests\n",
    "from config import API_KEY\n",
    "\n",
    "url = \"https://app.lambda-capture.com/semantic-search/\"\n",
    "# Define the query parameters\n",
    "params = {\n",
    "    \"api_key\": API_KEY,\n",
    "    \"query_text\": \"Inflation expectations\",\n",
    "    \"max_results\": 2,\n",
    "    \"type\": [\"text\",\"table\"],\n",
    "    \"source\": [\"Bank of England\"],\n",
    "    \"score\": 0.75,\n",
    "    \"start_date\" : \"2024-01-01\",\n",
    "    \"end_date\": \"2024-12-31\"\n",
    "}\n",
    "\n",
    "# Make the GET request\n",
    "response = requests.get(url, json=params)\n",
    "# Print the response\n",
    "print(\"status of response:\", response.status_code)\n",
    "data = response.json()\n",
    "data"
   ]
  },
  {
   "cell_type": "markdown",
   "metadata": {},
   "source": [
    "Remember that response is a **list of JSON objects** with min size of 1 element:"
   ]
  },
  {
   "cell_type": "code",
   "execution_count": 2,
   "metadata": {},
   "outputs": [
    {
     "name": "stdout",
     "output_type": "stream",
     "text": [
      "<class 'list'>\n",
      "<class 'dict'>\n",
      "<class 'str'>\n",
      "Inflation expectations, as measured by the Bank/Ipsos survey, were a little below their pre-Covid averages at the one and five-year horizons in 2024 Q3. The short and medium-term inflation expectations measures reported in the Citi/YouGov survey have picked up somewhat since August but remain lower than recent peaks (Chart 2.28). Part of that rise may have reflected the October increase in the Ofgem price cap. Households’ perceptions of current inflation reported in the Bank/Ipsos survey remained elevated at around 5.2% in 2024 Q3. The current gap between households’ perceptions of inflation and CPI inflation outturns is relatively large by historical standards.\n"
     ]
    }
   ],
   "source": [
    "# list\n",
    "print(type(data))\n",
    "# element of the list\n",
    "print(type(data[0]))\n",
    "# field in the element\n",
    "print(type(data[0]['section_title']))\n",
    "# access a field value from the first element\n",
    "print(data[1]['chunk'])"
   ]
  },
  {
   "cell_type": "markdown",
   "metadata": {},
   "source": [
    "When working with Firewalls, Proxies or CORS restrictions, you may need to set the headers in the request:"
   ]
  },
  {
   "cell_type": "code",
   "execution_count": 3,
   "metadata": {},
   "outputs": [],
   "source": [
    "headers = {\n",
    "    \"Accept\": \"application/json\"\n",
    "}\n",
    "\n",
    "response = requests.get(url, json=params, headers=headers)"
   ]
  },
  {
   "cell_type": "markdown",
   "metadata": {},
   "source": [
    "### Command-Line Interface (CLI) using curl:"
   ]
  },
  {
   "cell_type": "code",
   "execution_count": null,
   "metadata": {},
   "outputs": [],
   "source": [
    "from config import API_KEY\n",
    "%env API_KEY=$API_KEY"
   ]
  },
  {
   "cell_type": "code",
   "execution_count": 5,
   "metadata": {},
   "outputs": [
    {
     "name": "stdout",
     "output_type": "stream",
     "text": [
      "  % Total    % Received % Xferd  Average Speed   Time    Time     Time  Current\n",
      "                                 Dload  Upload   Total   Spent    Left  Speed\n",
      "100  1096  100   816  100   280   1079    370 --:--:-- --:--:-- --:--:--  1447\n",
      "[\n",
      "    {\n",
      "        \"uuid\": \"a52e0b78-01b9-4e37-9093-ba7573fe3649\",\n",
      "        \"source\": \"Bank of England\",\n",
      "        \"report_link\": \"https://www.bankofengland.co.uk/monetary-policy-report/2024/november-2024\",\n",
      "        \"document_title\": \"monetary-policy-report-november-2024\",\n",
      "        \"published\": \"2024-11-07T00:00:00\",\n",
      "        \"section_title\": \"2: Current economic conditions\",\n",
      "        \"subsection_title\": \"2.5: Inflation and wages\",\n",
      "        \"type\": \"text\",\n",
      "        \"chunk\": \"Household and business expectations for CPI inflation play an important role in wage and price-setting dynamics. Inflation expectations rose sharply alongside actual inflation in 2022. With inflation now around the 2% target, however, some measures of inflation expectations are back to around their 2010\\u201319 averages. \",\n",
      "        \"token_count\": 61,\n",
      "        \"data\": null,\n",
      "        \"footnotes\": null,\n",
      "        \"title\": \"Monetary Policy Report November 2024\",\n",
      "        \"score\": 0.8391591310501099\n",
      "    }\n",
      "]\n"
     ]
    }
   ],
   "source": [
    "!curl --request GET \\\n",
    "  --url \"https://app.lambda-capture.com/semantic-search/\" \\\n",
    "  --data '{ \\\n",
    "    \"api_key\": \"'$API_KEY'\", \\\n",
    "    \"query_text\": \"Inflation expectations\", \\\n",
    "    \"max_results\": 1, \\\n",
    "    \"score\": 0.75, \\\n",
    "    \"start_date\": \"2024-01-01\", \\\n",
    "    \"end_date\": \"2024-12-31\", \\\n",
    "    \"type\": [\"text\",\"table\"], \\\n",
    "    \"source\": [\"Bank of England\"] \\\n",
    "  }' | python -m json.tool\n",
    "# Footnote: Replace \\ with ^ when running outside UNIX systems\n",
    "# remove ! and | python -m json.tool when running directly in terminal"
   ]
  }
 ],
 "metadata": {
  "kernelspec": {
   "display_name": ".venv",
   "language": "python",
   "name": "python3"
  },
  "language_info": {
   "codemirror_mode": {
    "name": "ipython",
    "version": 3
   },
   "file_extension": ".py",
   "mimetype": "text/x-python",
   "name": "python",
   "nbconvert_exporter": "python",
   "pygments_lexer": "ipython3",
   "version": "3.13.0"
  }
 },
 "nbformat": 4,
 "nbformat_minor": 2
}
